{
 "cells": [
  {
   "cell_type": "code",
   "execution_count": 1,
   "id": "impossible-enclosure",
   "metadata": {},
   "outputs": [],
   "source": [
    "import pandas as pd\n",
    "import scipy.stats\n",
    "import statsmodels.api as sm\n",
    "import statsmodels.formula.api as smf"
   ]
  },
  {
   "cell_type": "code",
   "execution_count": 2,
   "id": "worse-morrison",
   "metadata": {},
   "outputs": [],
   "source": [
    "teams=pd.read_csv(\"data/teams.csv\")\n",
    "score=pd.read_csv(\"data/games_summary_202021.csv\")"
   ]
  },
  {
   "cell_type": "code",
   "execution_count": 3,
   "id": "sustainable-hazard",
   "metadata": {},
   "outputs": [],
   "source": [
    "teams=teams[teams[\"Season\"]==\"2020-21\"]\n",
    "teams=teams[teams[\"League\"]==\"B1\"]"
   ]
  },
  {
   "cell_type": "code",
   "execution_count": 4,
   "id": "amateur-librarian",
   "metadata": {},
   "outputs": [],
   "source": [
    "score=teams.merge(score,on=\"TeamId\")"
   ]
  },
  {
   "cell_type": "code",
   "execution_count": 5,
   "id": "prescription-samoa",
   "metadata": {},
   "outputs": [],
   "source": [
    "score=score.sort_values(\"ScheduleKey\")\n",
    "score=score.reset_index()"
   ]
  },
  {
   "cell_type": "code",
   "execution_count": 6,
   "id": "optical-shore",
   "metadata": {},
   "outputs": [],
   "source": [
    "score_g=score[::2]\n",
    "score_k=score[1::2]"
   ]
  },
  {
   "cell_type": "code",
   "execution_count": 7,
   "id": "general-mozambique",
   "metadata": {},
   "outputs": [],
   "source": [
    "win=[]\n",
    "\n",
    "for pts_k,pts_g in zip(score_k[\"PTS\"],score_g[\"PTS\"]):\n",
    "    if pts_k<pts_g:#0行目から始まるので不等号はこの向き\n",
    "        win.append(1)\n",
    "        win.append(0)\n",
    "    else:\n",
    "        win.append(0)\n",
    "        win.append(1)\n",
    "        \n",
    "score[\"win\"]=pd.DataFrame(win)     "
   ]
  },
  {
   "cell_type": "code",
   "execution_count": 8,
   "id": "humanitarian-aaron",
   "metadata": {},
   "outputs": [],
   "source": [
    "#eFGを計算\n",
    "eFG=[]\n",
    "for f2gm,f3gm,f2ga,f3ga in zip(score[\"F2GM\"],score[\"F3GM\"],score[\"F2GA\"],score[\"F3GA\"]):\n",
    "    eFG.append((f2gm+1.5*f3gm)/(f2ga+f3ga))\n",
    "    \n",
    "score[\"eFG\"]=pd.DataFrame(eFG)"
   ]
  },
  {
   "cell_type": "code",
   "execution_count": 9,
   "id": "adequate-omaha",
   "metadata": {},
   "outputs": [],
   "source": [
    "#フリースロー率を計算\n",
    "FTR=[]\n",
    "for fta,f2ga,f3ga in zip(score[\"FTA\"],score[\"F2GA\"],score[\"F3GA\"]):\n",
    "    FTR.append(fta/(f2ga+f3ga))\n",
    "    \n",
    "score[\"FTR\"]=pd.DataFrame(FTR)"
   ]
  },
  {
   "cell_type": "code",
   "execution_count": 10,
   "id": "experimental-latter",
   "metadata": {},
   "outputs": [],
   "source": [
    "#オフェンスリバウンド率を計算\n",
    "ORBP=[]\n",
    "for orb_g,orb_k,drb_g,drb_k in zip(score_g[\"OR\"],score_k[\"OR\"],score_g[\"DR\"],score_k[\"DR\"]):\n",
    "    ORBP.append(orb_g/(orb_g+drb_k))\n",
    "    ORBP.append(orb_k/(orb_k+drb_g))\n",
    "    \n",
    "score[\"ORBP\"]=pd.DataFrame(ORBP)"
   ]
  },
  {
   "cell_type": "code",
   "execution_count": 11,
   "id": "governing-mileage",
   "metadata": {},
   "outputs": [],
   "source": [
    "#ターンオーバー率を計算\n",
    "TOP=[]\n",
    "for tov,f2ga,f3ga,fta in zip(score[\"TO\"],score[\"F2GA\"],score[\"F3GA\"],score[\"FTA\"]):\n",
    "    TOP.append(tov/(f2ga+f3ga+fta*0.44+tov))\n",
    "    \n",
    "score[\"TOP\"]=pd.DataFrame(TOP)"
   ]
  },
  {
   "cell_type": "code",
   "execution_count": 12,
   "id": "civilian-weather",
   "metadata": {},
   "outputs": [],
   "source": [
    "#千葉・宇都宮・川崎・琉球のデータを抽出\n",
    "best4=score[(score[\"NameShort\"]==\"千葉\")|(score[\"NameShort\"]==\"宇都宮\")|(score[\"NameShort\"]==\"川崎\")|(score[\"NameShort\"]==\"琉球\")]\n",
    "best4=best4.reset_index()"
   ]
  },
  {
   "cell_type": "code",
   "execution_count": 31,
   "id": "attached-wagon",
   "metadata": {},
   "outputs": [
    {
     "data": {
      "text/html": [
       "<div>\n",
       "<style scoped>\n",
       "    .dataframe tbody tr th:only-of-type {\n",
       "        vertical-align: middle;\n",
       "    }\n",
       "\n",
       "    .dataframe tbody tr th {\n",
       "        vertical-align: top;\n",
       "    }\n",
       "\n",
       "    .dataframe thead th {\n",
       "        text-align: right;\n",
       "    }\n",
       "</style>\n",
       "<table border=\"1\" class=\"dataframe\">\n",
       "  <thead>\n",
       "    <tr style=\"text-align: right;\">\n",
       "      <th></th>\n",
       "      <th>win</th>\n",
       "      <th>eFG</th>\n",
       "      <th>FTR</th>\n",
       "      <th>ORBP</th>\n",
       "      <th>TOP</th>\n",
       "    </tr>\n",
       "  </thead>\n",
       "  <tbody>\n",
       "    <tr>\n",
       "      <th>win</th>\n",
       "      <td>1.000000</td>\n",
       "      <td>0.401992</td>\n",
       "      <td>0.074832</td>\n",
       "      <td>0.241427</td>\n",
       "      <td>-0.118817</td>\n",
       "    </tr>\n",
       "    <tr>\n",
       "      <th>eFG</th>\n",
       "      <td>0.401992</td>\n",
       "      <td>1.000000</td>\n",
       "      <td>-0.009170</td>\n",
       "      <td>0.042499</td>\n",
       "      <td>0.086154</td>\n",
       "    </tr>\n",
       "    <tr>\n",
       "      <th>FTR</th>\n",
       "      <td>0.074832</td>\n",
       "      <td>-0.009170</td>\n",
       "      <td>1.000000</td>\n",
       "      <td>0.034259</td>\n",
       "      <td>0.262626</td>\n",
       "    </tr>\n",
       "    <tr>\n",
       "      <th>ORBP</th>\n",
       "      <td>0.241427</td>\n",
       "      <td>0.042499</td>\n",
       "      <td>0.034259</td>\n",
       "      <td>1.000000</td>\n",
       "      <td>0.000079</td>\n",
       "    </tr>\n",
       "    <tr>\n",
       "      <th>TOP</th>\n",
       "      <td>-0.118817</td>\n",
       "      <td>0.086154</td>\n",
       "      <td>0.262626</td>\n",
       "      <td>0.000079</td>\n",
       "      <td>1.000000</td>\n",
       "    </tr>\n",
       "  </tbody>\n",
       "</table>\n",
       "</div>"
      ],
      "text/plain": [
       "           win       eFG       FTR      ORBP       TOP\n",
       "win   1.000000  0.401992  0.074832  0.241427 -0.118817\n",
       "eFG   0.401992  1.000000 -0.009170  0.042499  0.086154\n",
       "FTR   0.074832 -0.009170  1.000000  0.034259  0.262626\n",
       "ORBP  0.241427  0.042499  0.034259  1.000000  0.000079\n",
       "TOP  -0.118817  0.086154  0.262626  0.000079  1.000000"
      ]
     },
     "execution_count": 31,
     "metadata": {},
     "output_type": "execute_result"
    }
   ],
   "source": [
    "#Four Factorsの相関係数を確認\n",
    "best4.loc[:,[\"win\",\"eFG\",\"FTR\",\"ORBP\",\"TOP\"]].corr()"
   ]
  },
  {
   "cell_type": "code",
   "execution_count": 58,
   "id": "potential-paragraph",
   "metadata": {},
   "outputs": [],
   "source": [
    "#Four Factorsを標準化\n",
    "best4[\"eFG_z\"]=pd.DataFrame(scipy.stats.zscore(best4[\"eFG\"],ddof=1))\n",
    "best4[\"FTR_z\"]=pd.DataFrame(scipy.stats.zscore(best4[\"FTR\"],ddof=1))\n",
    "best4[\"ORBP_z\"]=pd.DataFrame(scipy.stats.zscore(best4[\"ORBP\"],ddof=1))\n",
    "best4[\"TOP_z\"]=pd.DataFrame(scipy.stats.zscore(best4[\"TOP\"],ddof=1))"
   ]
  },
  {
   "cell_type": "code",
   "execution_count": 48,
   "id": "silent-arrangement",
   "metadata": {},
   "outputs": [],
   "source": [
    "#ダミー変数を用意する\n",
    "utsunomiya=[]\n",
    "for team in best4[\"NameShort\"]:\n",
    "    if team==\"宇都宮\":\n",
    "        utsunomiya.append(1)\n",
    "    else:\n",
    "        utsunomiya.append(0)\n",
    "\n",
    "best4[\"utsunomiya\"]=pd.DataFrame(utsunomiya)"
   ]
  },
  {
   "cell_type": "code",
   "execution_count": 49,
   "id": "engaged-hormone",
   "metadata": {},
   "outputs": [],
   "source": [
    "#ダミー変数を用意する\n",
    "kawasaki=[]\n",
    "for team in best4[\"NameShort\"]:\n",
    "    if team==\"川崎\":\n",
    "        kawasaki.append(1)\n",
    "    else:\n",
    "        kawasaki.append(0)\n",
    "\n",
    "best4[\"kawasaki\"]=pd.DataFrame(kawasaki)"
   ]
  },
  {
   "cell_type": "code",
   "execution_count": 50,
   "id": "apart-liverpool",
   "metadata": {},
   "outputs": [],
   "source": [
    "#ダミー変数を用意する\n",
    "ryukyu=[]\n",
    "for team in best4[\"NameShort\"]:\n",
    "    if team==\"琉球\":\n",
    "        ryukyu.append(1)\n",
    "    else:\n",
    "        ryukyu.append(0)\n",
    "\n",
    "best4[\"ryukyu\"]=pd.DataFrame(ryukyu)"
   ]
  },
  {
   "cell_type": "code",
   "execution_count": 59,
   "id": "fresh-honolulu",
   "metadata": {},
   "outputs": [
    {
     "data": {
      "text/html": [
       "<table class=\"simpletable\">\n",
       "<caption>Generalized Linear Model Regression Results</caption>\n",
       "<tr>\n",
       "  <th>Dep. Variable:</th>          <td>win</td>       <th>  No. Observations:  </th>  <td>   232</td> \n",
       "</tr>\n",
       "<tr>\n",
       "  <th>Model:</th>                  <td>GLM</td>       <th>  Df Residuals:      </th>  <td>   215</td> \n",
       "</tr>\n",
       "<tr>\n",
       "  <th>Model Family:</th>        <td>Binomial</td>     <th>  Df Model:          </th>  <td>    16</td> \n",
       "</tr>\n",
       "<tr>\n",
       "  <th>Link Function:</th>         <td>logit</td>      <th>  Scale:             </th> <td>  1.0000</td>\n",
       "</tr>\n",
       "<tr>\n",
       "  <th>Method:</th>                <td>IRLS</td>       <th>  Log-Likelihood:    </th> <td> -86.040</td>\n",
       "</tr>\n",
       "<tr>\n",
       "  <th>Date:</th>            <td>Sun, 22 Aug 2021</td> <th>  Deviance:          </th> <td>  172.08</td>\n",
       "</tr>\n",
       "<tr>\n",
       "  <th>Time:</th>                <td>09:33:01</td>     <th>  Pearson chi2:      </th>  <td>  210.</td> \n",
       "</tr>\n",
       "<tr>\n",
       "  <th>No. Iterations:</th>          <td>6</td>        <th>                     </th>     <td> </td>   \n",
       "</tr>\n",
       "<tr>\n",
       "  <th>Covariance Type:</th>     <td>nonrobust</td>    <th>                     </th>     <td> </td>   \n",
       "</tr>\n",
       "</table>\n",
       "<table class=\"simpletable\">\n",
       "<tr>\n",
       "          <td></td>             <th>coef</th>     <th>std err</th>      <th>z</th>      <th>P>|z|</th>  <th>[0.025</th>    <th>0.975]</th>  \n",
       "</tr>\n",
       "<tr>\n",
       "  <th>Intercept</th>         <td>    1.9933</td> <td>    0.291</td> <td>    6.846</td> <td> 0.000</td> <td>    1.423</td> <td>    2.564</td>\n",
       "</tr>\n",
       "<tr>\n",
       "  <th>eFG_z</th>             <td>    2.1067</td> <td>    0.534</td> <td>    3.943</td> <td> 0.000</td> <td>    1.060</td> <td>    3.154</td>\n",
       "</tr>\n",
       "<tr>\n",
       "  <th>TOP_z</th>             <td>   -0.6561</td> <td>    0.418</td> <td>   -1.571</td> <td> 0.116</td> <td>   -1.475</td> <td>    0.163</td>\n",
       "</tr>\n",
       "<tr>\n",
       "  <th>FTR_z</th>             <td>    0.2348</td> <td>    0.411</td> <td>    0.572</td> <td> 0.568</td> <td>   -0.571</td> <td>    1.040</td>\n",
       "</tr>\n",
       "<tr>\n",
       "  <th>ORBP_z</th>            <td>    0.0619</td> <td>    0.398</td> <td>    0.155</td> <td> 0.876</td> <td>   -0.718</td> <td>    0.842</td>\n",
       "</tr>\n",
       "<tr>\n",
       "  <th>eFG_z:utsunomiya</th>  <td>   -0.5925</td> <td>    0.617</td> <td>   -0.961</td> <td> 0.337</td> <td>   -1.801</td> <td>    0.616</td>\n",
       "</tr>\n",
       "<tr>\n",
       "  <th>TOP_z:utsunomiya</th>  <td>   -0.2759</td> <td>    0.651</td> <td>   -0.424</td> <td> 0.672</td> <td>   -1.552</td> <td>    1.000</td>\n",
       "</tr>\n",
       "<tr>\n",
       "  <th>FTR_z:utsunomiya</th>  <td>    0.2304</td> <td>    0.656</td> <td>    0.351</td> <td> 0.725</td> <td>   -1.056</td> <td>    1.516</td>\n",
       "</tr>\n",
       "<tr>\n",
       "  <th>ORBP_z:utsunomiya</th> <td>    0.2919</td> <td>    0.645</td> <td>    0.453</td> <td> 0.651</td> <td>   -0.972</td> <td>    1.556</td>\n",
       "</tr>\n",
       "<tr>\n",
       "  <th>eFG_z:kawasaki</th>    <td>   -1.3258</td> <td>    0.640</td> <td>   -2.072</td> <td> 0.038</td> <td>   -2.580</td> <td>   -0.072</td>\n",
       "</tr>\n",
       "<tr>\n",
       "  <th>TOP_z:kawasaki</th>    <td>    0.1120</td> <td>    0.549</td> <td>    0.204</td> <td> 0.838</td> <td>   -0.963</td> <td>    1.187</td>\n",
       "</tr>\n",
       "<tr>\n",
       "  <th>FTR_z:kawasaki</th>    <td>   -0.0409</td> <td>    0.547</td> <td>   -0.075</td> <td> 0.940</td> <td>   -1.113</td> <td>    1.031</td>\n",
       "</tr>\n",
       "<tr>\n",
       "  <th>ORBP_z:kawasaki</th>   <td>    1.1810</td> <td>    0.545</td> <td>    2.167</td> <td> 0.030</td> <td>    0.113</td> <td>    2.249</td>\n",
       "</tr>\n",
       "<tr>\n",
       "  <th>eFG_z:ryukyu</th>      <td>   -0.2222</td> <td>    0.816</td> <td>   -0.272</td> <td> 0.785</td> <td>   -1.822</td> <td>    1.377</td>\n",
       "</tr>\n",
       "<tr>\n",
       "  <th>TOP_z:ryukyu</th>      <td>    0.4789</td> <td>    0.677</td> <td>    0.707</td> <td> 0.479</td> <td>   -0.848</td> <td>    1.806</td>\n",
       "</tr>\n",
       "<tr>\n",
       "  <th>FTR_z:ryukyu</th>      <td>    1.1516</td> <td>    0.697</td> <td>    1.653</td> <td> 0.098</td> <td>   -0.214</td> <td>    2.517</td>\n",
       "</tr>\n",
       "<tr>\n",
       "  <th>ORBP_z:ryukyu</th>     <td>    1.7740</td> <td>    0.715</td> <td>    2.482</td> <td> 0.013</td> <td>    0.373</td> <td>    3.175</td>\n",
       "</tr>\n",
       "</table>"
      ],
      "text/plain": [
       "<class 'statsmodels.iolib.summary.Summary'>\n",
       "\"\"\"\n",
       "                 Generalized Linear Model Regression Results                  \n",
       "==============================================================================\n",
       "Dep. Variable:                    win   No. Observations:                  232\n",
       "Model:                            GLM   Df Residuals:                      215\n",
       "Model Family:                Binomial   Df Model:                           16\n",
       "Link Function:                  logit   Scale:                          1.0000\n",
       "Method:                          IRLS   Log-Likelihood:                -86.040\n",
       "Date:                Sun, 22 Aug 2021   Deviance:                       172.08\n",
       "Time:                        09:33:01   Pearson chi2:                     210.\n",
       "No. Iterations:                     6                                         \n",
       "Covariance Type:            nonrobust                                         \n",
       "=====================================================================================\n",
       "                        coef    std err          z      P>|z|      [0.025      0.975]\n",
       "-------------------------------------------------------------------------------------\n",
       "Intercept             1.9933      0.291      6.846      0.000       1.423       2.564\n",
       "eFG_z                 2.1067      0.534      3.943      0.000       1.060       3.154\n",
       "TOP_z                -0.6561      0.418     -1.571      0.116      -1.475       0.163\n",
       "FTR_z                 0.2348      0.411      0.572      0.568      -0.571       1.040\n",
       "ORBP_z                0.0619      0.398      0.155      0.876      -0.718       0.842\n",
       "eFG_z:utsunomiya     -0.5925      0.617     -0.961      0.337      -1.801       0.616\n",
       "TOP_z:utsunomiya     -0.2759      0.651     -0.424      0.672      -1.552       1.000\n",
       "FTR_z:utsunomiya      0.2304      0.656      0.351      0.725      -1.056       1.516\n",
       "ORBP_z:utsunomiya     0.2919      0.645      0.453      0.651      -0.972       1.556\n",
       "eFG_z:kawasaki       -1.3258      0.640     -2.072      0.038      -2.580      -0.072\n",
       "TOP_z:kawasaki        0.1120      0.549      0.204      0.838      -0.963       1.187\n",
       "FTR_z:kawasaki       -0.0409      0.547     -0.075      0.940      -1.113       1.031\n",
       "ORBP_z:kawasaki       1.1810      0.545      2.167      0.030       0.113       2.249\n",
       "eFG_z:ryukyu         -0.2222      0.816     -0.272      0.785      -1.822       1.377\n",
       "TOP_z:ryukyu          0.4789      0.677      0.707      0.479      -0.848       1.806\n",
       "FTR_z:ryukyu          1.1516      0.697      1.653      0.098      -0.214       2.517\n",
       "ORBP_z:ryukyu         1.7740      0.715      2.482      0.013       0.373       3.175\n",
       "=====================================================================================\n",
       "\"\"\""
      ]
     },
     "execution_count": 59,
     "metadata": {},
     "output_type": "execute_result"
    }
   ],
   "source": [
    "#ロジスティック回帰モデルを立てる\n",
    "model=smf.glm(formula=\"win~eFG_z+TOP_z+FTR_z+ORBP_z+eFG_z:utsunomiya+TOP_z:utsunomiya+FTR_z:utsunomiya+ORBP_z:utsunomiya+eFG_z:kawasaki+TOP_z:kawasaki+FTR_z:kawasaki+ORBP_z:kawasaki+eFG_z:ryukyu+TOP_z:ryukyu+FTR_z:ryukyu+ORBP_z:ryukyu\",\n",
    "              data=best4,family=sm.families.Binomial()).fit()\n",
    "model.summary()"
   ]
  }
 ],
 "metadata": {
  "kernelspec": {
   "display_name": "Python 3",
   "language": "python",
   "name": "python3"
  },
  "language_info": {
   "codemirror_mode": {
    "name": "ipython",
    "version": 3
   },
   "file_extension": ".py",
   "mimetype": "text/x-python",
   "name": "python",
   "nbconvert_exporter": "python",
   "pygments_lexer": "ipython3",
   "version": "3.6.5"
  }
 },
 "nbformat": 4,
 "nbformat_minor": 5
}
